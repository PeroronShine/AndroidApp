{
  "cells": 
    {
      "cell_type": "code",
      "execution_count": null,
      "metadata": {
        "colab": {
          "base_uri": "https://localhost:8080/"
        },
        "id": "51ZAxD5liNz8",
        "outputId": "5b087224-ff76-45a1-86ba-0a4fd9453f3e"
      },
      "outputs": [
        {
          "name": "stdout",
          "output_type": "stream",
          "text": [
            "Mounted at /content/drive\n"
          ]
        }
      ],
      "source": [
        "from google.colab import drive\n",
        "drive.mount('/content/drive')\n",
        "\n",
        "BASE_PATH = \"/content/drive/MyDrive/cifar\"\n",
        "TRAIN_PATH = f\"{BASE_PATH}/train/train\"\n",
        "TEST_PATH = f\"{BASE_PATH}/test/output\"\n",
        "LABELS_PATH = f\"{BASE_PATH}/trainLabels.csv\"\n",
        "\n",
        "import os\n",
        "import pandas as pd\n",
        "import numpy as np\n",
        "from sklearn.ensemble import RandomForestClassifier, GradientBoostingClassifier, VotingClassifier\n",
        "from sklearn.model_selection import train_test_split\n",
        "from sklearn.metrics import classification_report\n",
        "from sklearn.preprocessing import LabelEncoder\n",
        "from sklearn.decomposition import PCA\n",
        "import cv2\n",
        "from tqdm import tqdm\n",
        "import warnings\n",
        "warnings.filterwarnings('ignore')"
      ]
    },
    {
      "cell_type": "code",
      "execution_count": null,
      "metadata": {
        "colab": {
          "base_uri": "https://localhost:8080/"
        },
        "id": "YXApIVc9iU2m",
        "outputId": "d4153bef-8cc0-4231-8cd8-0deb2b3cb25b"
      },
      "outputs": [
        {
          "name": "stdout",
          "output_type": "stream",
          "text": [
            "Первые строки trainLabels:\n",
            "   id       label\n",
            "0   1        frog\n",
            "1   2       truck\n",
            "2   3       truck\n",
            "3   4        deer\n",
            "4   5  automobile\n",
            "\n",
            "Количество уникальных классов: 10\n"
          ]
        },
        {
          "name": "stderr",
          "output_type": "stream",
          "text": [
            "Загрузка изображений: 100%|██████████| 19999/19999 [1:18:33<00:00,  4.24it/s]\n"
          ]
        },
        {
          "name": "stdout",
          "output_type": "stream",
          "text": [
            "\n",
            "Размерность X: (19999, 3072)\n",
            "Размерность y: (19999,)\n"
          ]
        }
      ],
      "source": [
        "# Загружаем метки\n",
        "df_labels = pd.read_csv(LABELS_PATH)\n",
        "print(\"Первые строки trainLabels:\")\n",
        "print(df_labels.head())\n",
        "\n",
        "print(f\"\\nКоличество уникальных классов: {df_labels['label'].nunique()}\")\n",
        "\n",
        "le = LabelEncoder()\n",
        "df_labels['label_encoded'] = le.fit_transform(df_labels['label'])\n",
        "\n",
        "def load_images_and_labels(image_dir, df, img_size=(32, 32)):\n",
        "    images = []\n",
        "    labels = []\n",
        "    filenames = []\n",
        "\n",
        "    for idx, row in tqdm(df.iterrows(), total=len(df), desc=\"Загрузка изображений\"):\n",
        "        filename = f\"{row['id']}.png\"\n",
        "        label = row['label_encoded']\n",
        "        img_path = os.path.join(image_dir, filename)\n",
        "\n",
        "        img = cv2.imread(img_path)\n",
        "\n",
        "        img = cv2.resize(img, img_size)\n",
        "\n",
        "        # Преобразуем в одномерный вектор\n",
        "        img_flat = img.flatten()\n",
        "\n",
        "        images.append(img_flat)\n",
        "        labels.append(label)\n",
        "        filenames.append(filename)\n",
        "\n",
        "    return np.array(images), np.array(labels), filenames\n",
        "\n",
        "X, y, train_filenames = load_images_and_labels(TRAIN_PATH, df_labels)\n",
        "\n",
        "print(f\"\\nРазмерность X: {X.shape}\")\n",
        "print(f\"Размерность y: {y.shape}\")"
      ]
    },
    {
      "cell_type": "code",
      "execution_count": null,
      "metadata": {
        "colab": {
          "base_uri": "https://localhost:8080/"
        },
        "id": "Aqs8vBhNiuXZ",
        "outputId": "ef0c8b03-9ff7-4cb3-834c-a37b972cab9e"
      },
      "outputs": [
        {
          "name": "stdout",
          "output_type": "stream",
          "text": [
            "Размерность после PCA: (19999, 500)\n"
          ]
        }
      ],
      "source": [
        "# PCA для уменьшения размерности\n",
        "pca = PCA(n_components=500, random_state=42)\n",
        "X_pca = pca.fit_transform(X)\n",
        "\n",
        "print(f\"Размерность после PCA: {X_pca.shape}\")"
      ]
    },
    {
      "cell_type": "code",
      "execution_count": null,
      "metadata": {
        "id": "rp5YcKzKivda"
      },
      "outputs": [],
      "source": [
        "X_train, X_val, y_train, y_val = train_test_split(\n",
        "    X_pca, y, test_size=0.2, random_state=42, stratify=y\n",
        ")"
      ]
    },
    {
      "cell_type": "code",
      "execution_count": null,
      "metadata": {
        "colab": {
          "base_uri": "https://localhost:8080/"
        },
        "id": "McrzSIsPixBI",
        "outputId": "82723427-2af7-4aff-8c3d-058433dcc362"
      },
      "outputs": [
        {
          "name": "stdout",
          "output_type": "stream",
          "text": [
            "Обучение ансамбля...\n",
            "\n",
            "Отчёт по валидации:\n",
            "              precision    recall  f1-score   support\n",
            "\n",
            "    airplane       0.48      0.49      0.49       398\n",
            "  automobile       0.51      0.52      0.51       396\n",
            "        bird       0.34      0.28      0.30       409\n",
            "         cat       0.33      0.35      0.34       402\n",
            "        deer       0.39      0.40      0.40       402\n",
            "         dog       0.42      0.33      0.37       385\n",
            "        frog       0.45      0.50      0.47       408\n",
            "       horse       0.51      0.45      0.48       405\n",
            "        ship       0.49      0.58      0.53       402\n",
            "       truck       0.47      0.50      0.48       393\n",
            "\n",
            "    accuracy                           0.44      4000\n",
            "   macro avg       0.44      0.44      0.44      4000\n",
            "weighted avg       0.44      0.44      0.44      4000\n",
            "\n"
          ]
        }
      ],
      "source": [
        "rf = RandomForestClassifier(n_estimators=100, random_state=42, n_jobs=-1)\n",
        "gb = GradientBoostingClassifier(n_estimators=100, random_state=42)\n",
        "\n",
        "voting_clf = VotingClassifier(\n",
        "    estimators=[('rf', rf), ('gb', gb)],\n",
        "    voting='soft'\n",
        ")\n",
        "\n",
        "print(\"Обучение ансамбля...\")\n",
        "voting_clf.fit(X_train, y_train)\n",
        "\n",
        "# Предсказание на валидационной выборке\n",
        "y_pred = voting_clf.predict(X_val)\n",
        "print(\"\\nОтчёт по валидации:\")\n",
        "print(classification_report(y_val, y_pred, target_names=le.classes_))"
      ]
    },
    {
      "cell_type": "code",
      "execution_count": null,
      "metadata": {
        "colab": {
          "base_uri": "https://localhost:8080/"
        },
        "id": "ryK_M5EXiyBV",
        "outputId": "1b95acd2-da57-4af2-8798-c89eff4555db"
      },
      "outputs": [
        {
          "name": "stderr",
          "output_type": "stream",
          "text": [
            "Загрузка тестовых изображений: 100%|██████████| 5000/5000 [02:24<00:00, 34.58it/s] \n"
          ]
        },
        {
          "name": "stdout",
          "output_type": "stream",
          "text": [
            "\n",
            "✅ Результаты сохранены в: /content/testLabels.csv\n",
            "               id       label\n",
            "0  4699_noisy.png  automobile\n",
            "1  4664_noisy.png        deer\n",
            "2   481_noisy.png        bird\n",
            "3  4482_noisy.png         cat\n",
            "4   647_noisy.png        frog\n"
          ]
        }
      ],
      "source": [
        "def load_test_images(image_dir, img_size=(32, 32)):\n",
        "    images = []\n",
        "    filenames = []\n",
        "\n",
        "    for filename in tqdm(os.listdir(image_dir), desc=\"Загрузка тестовых изображений\"):\n",
        "        if filename.endswith(('.png')):\n",
        "            img_path = os.path.join(image_dir, filename)\n",
        "            img = cv2.imread(img_path)\n",
        "            if img is None:\n",
        "                continue\n",
        "\n",
        "            img = cv2.resize(img, img_size)\n",
        "            img_flat = img.flatten()\n",
        "\n",
        "            images.append(img_flat)\n",
        "            filenames.append(filename)\n",
        "\n",
        "    return np.array(images), filenames\n",
        "\n",
        "X_test, test_filenames = load_test_images(TEST_PATH)\n",
        "\n",
        "X_test_pca = pca.transform(X_test)\n",
        "\n",
        "y_test_pred_encoded = voting_clf.predict(X_test_pca)\n",
        "\n",
        "# Декодируем метки обратно в оригинальные названия\n",
        "y_test_pred = le.inverse_transform(y_test_pred_encoded)\n",
        "\n",
        "test_results = pd.DataFrame({\n",
        "    'id': test_filenames,\n",
        "    'label': y_test_pred\n",
        "})\n",
        "\n",
        "output_path = \"/content/testLabels.csv\"\n",
        "test_results.to_csv(output_path, index=False)\n",
        "\n",
        "print(f\"\\n✅ Результаты сохранены в: {output_path}\")\n",
        "print(test_results.head())"
      ]
    },
    {
      "cell_type": "code",
      "execution_count": null,
      "metadata": {
        "colab": {
          "base_uri": "https://localhost:8080/",
          "height": 17
        },
        "id": "qylym1P4izfO",
        "outputId": "cd95a182-62c0-4d8a-d552-47380072f011"
      },
      "outputs": [
        {
          "data": {
            "application/javascript": [
              "\n",
              "    async function download(id, filename, size) {\n",
              "      if (!google.colab.kernel.accessAllowed) {\n",
              "        return;\n",
              "      }\n",
              "      const div = document.createElement('div');\n",
              "      const label = document.createElement('label');\n",
              "      label.textContent = `Downloading \"${filename}\": `;\n",
              "      div.appendChild(label);\n",
              "      const progress = document.createElement('progress');\n",
              "      progress.max = size;\n",
              "      div.appendChild(progress);\n",
              "      document.body.appendChild(div);\n",
              "\n",
              "      const buffers = [];\n",
              "      let downloaded = 0;\n",
              "\n",
              "      const channel = await google.colab.kernel.comms.open(id);\n",
              "      // Send a message to notify the kernel that we're ready.\n",
              "      channel.send({})\n",
              "\n",
              "      for await (const message of channel.messages) {\n",
              "        // Send a message to notify the kernel that we're ready.\n",
              "        channel.send({})\n",
              "        if (message.buffers) {\n",
              "          for (const buffer of message.buffers) {\n",
              "            buffers.push(buffer);\n",
              "            downloaded += buffer.byteLength;\n",
              "            progress.value = downloaded;\n",
              "          }\n",
              "        }\n",
              "      }\n",
              "      const blob = new Blob(buffers, {type: 'application/binary'});\n",
              "      const a = document.createElement('a');\n",
              "      a.href = window.URL.createObjectURL(blob);\n",
              "      a.download = filename;\n",
              "      div.appendChild(a);\n",
              "      a.click();\n",
              "      div.remove();\n",
              "    }\n",
              "  "
            ],
            "text/plain": [
              "<IPython.core.display.Javascript object>"
            ]
          },
          "metadata": {},
          "output_type": "display_data"
        },
        {
          "data": {
            "application/javascript": [
              "download(\"download_19217073-4a0a-4754-8980-90dcc054225d\", \"testLabels.csv\", 102466)"
            ],
            "text/plain": [
              "<IPython.core.display.Javascript object>"
            ]
          },
          "metadata": {},
          "output_type": "display_data"
        }
      ],
      "source": [
        "from google.colab import files\n",
        "files.download(output_path)"
      ]
    },
    {
      "cell_type": "markdown",
      "metadata": {
        "id": "IeZS0Lqf5dun"
      },
      "source": [
        "round2"
      ]
    },
    {
      "cell_type": "code",
      "execution_count": null,
      "metadata": {
        "id": "2WHbTQnrTmnm"
      },
      "outputs": [],
      "source": [
        "def extract_color_features(image):\n",
        "    \"\"\"Извлекает средние значения R, G, B по всему изображению\"\"\"\n",
        "    mean_r = np.mean(image[:, :, 0])\n",
        "    mean_g = np.mean(image[:, :, 1])\n",
        "    mean_b = np.mean(image[:, :, 2])\n",
        "    return [mean_r, mean_g, mean_b]"
      ]
    },
    {
      "cell_type": "code",
      "execution_count": null,
      "metadata": {
        "id": "uYuzhcXBTpSh"
      },
      "outputs": [],
      "source": [
        "def load_images_and_labels_color(image_dir, df, img_size=(64, 64)):\n",
        "    features = []\n",
        "    labels = []\n",
        "    filenames = []\n",
        "\n",
        "    for idx, row in tqdm(df.iterrows(), total=len(df), desc=\"Загрузка и обработка изображений (цвет)\"):\n",
        "        filename = f\"{row['id']}.png\"\n",
        "        label = row['label_encoded']\n",
        "        img_path = os.path.join(image_dir, filename)\n",
        "\n",
        "        img = cv2.imread(img_path)\n",
        "        img = cv2.resize(img, img_size)\n",
        "\n",
        "        # Извлекаем цветовые признаки\n",
        "        try:\n",
        "            color_feat = extract_color_features(img)\n",
        "            features.append(color_feat)\n",
        "            labels.append(label)\n",
        "            filenames.append(filename)\n",
        "        except Exception as e:\n",
        "            print(f\"Ошибка при извлечении цветовых признаков для {filename}: {e}\")\n",
        "            continue\n",
        "\n",
        "    return np.array(features), np.array(labels), filenames"
      ]
    },
    {
      "cell_type": "code",
      "execution_count": null,
      "metadata": {
        "colab": {
          "base_uri": "https://localhost:8080/"
        },
        "id": "5SuHUjk9T1Z-",
        "outputId": "489aa01b-d914-4977-bca1-5997e9fdd177"
      },
      "outputs": [
        {
          "name": "stderr",
          "output_type": "stream",
          "text": [
            "Загрузка и обработка изображений (цвет): 100%|██████████| 19999/19999 [02:22<00:00, 140.38it/s]"
          ]
        },
        {
          "name": "stdout",
          "output_type": "stream",
          "text": [
            "Размерность X: (19999, 3)\n",
            "Размерность y: (19999,)\n"
          ]
        },
        {
          "name": "stderr",
          "output_type": "stream",
          "text": [
            "\n"
          ]
        }
      ],
      "source": [
        "X, y, train_filenames = load_images_and_labels_color(TRAIN_PATH, df_labels)\n",
        "\n",
        "print(f\"Размерность X: {X.shape}\")  # (N, 3)\n",
        "print(f\"Размерность y: {y.shape}\")"
      ]
    },
    {
      "cell_type": "code",
      "execution_count": null,
      "metadata": {
        "colab": {
          "base_uri": "https://localhost:8080/",
          "height": 212
        },
        "id": "0eV2tppUUKIv",
        "outputId": "efacfd9d-00c4-40fe-ee3e-407e8d06007e"
      },
      "outputs": [
        {
          "name": "stdout",
          "output_type": "stream",
          "text": [
            "Обучение ансамбля на цветовых признаках...\n"
          ]
        },
        {
          "data": {
            "text/html": [
              "<style>#sk-container-id-1 {\n",
              "  /* Definition of color scheme common for light and dark mode */\n",
              "  --sklearn-color-text: #000;\n",
              "  --sklearn-color-text-muted: #666;\n",
              "  --sklearn-color-line: gray;\n",
              "  /* Definition of color scheme for unfitted estimators */\n",
              "  --sklearn-color-unfitted-level-0: #fff5e6;\n",
              "  --sklearn-color-unfitted-level-1: #f6e4d2;\n",
              "  --sklearn-color-unfitted-level-2: #ffe0b3;\n",
              "  --sklearn-color-unfitted-level-3: chocolate;\n",
              "  /* Definition of color scheme for fitted estimators */\n",
              "  --sklearn-color-fitted-level-0: #f0f8ff;\n",
              "  --sklearn-color-fitted-level-1: #d4ebff;\n",
              "  --sklearn-color-fitted-level-2: #b3dbfd;\n",
              "  --sklearn-color-fitted-level-3: cornflowerblue;\n",
              "\n",
              "  /* Specific color for light theme */\n",
              "  --sklearn-color-text-on-default-background: var(--sg-text-color, var(--theme-code-foreground, var(--jp-content-font-color1, black)));\n",
              "  --sklearn-color-background: var(--sg-background-color, var(--theme-background, var(--jp-layout-color0, white)));\n",
              "  --sklearn-color-border-box: var(--sg-text-color, var(--theme-code-foreground, var(--jp-content-font-color1, black)));\n",
              "  --sklearn-color-icon: #696969;\n",
              "\n",
              "  @media (prefers-color-scheme: dark) {\n",
              "    /* Redefinition of color scheme for dark theme */\n",
              "    --sklearn-color-text-on-default-background: var(--sg-text-color, var(--theme-code-foreground, var(--jp-content-font-color1, white)));\n",
              "    --sklearn-color-background: var(--sg-background-color, var(--theme-background, var(--jp-layout-color0, #111)));\n",
              "    --sklearn-color-border-box: var(--sg-text-color, var(--theme-code-foreground, var(--jp-content-font-color1, white)));\n",
              "    --sklearn-color-icon: #878787;\n",
              "  }\n",
              "}\n",
              "\n",
              "#sk-container-id-1 {\n",
              "  color: var(--sklearn-color-text);\n",
              "}\n",
              "\n",
              "#sk-container-id-1 pre {\n",
              "  padding: 0;\n",
              "}\n",
              "\n",
              "#sk-container-id-1 input.sk-hidden--visually {\n",
              "  border: 0;\n",
              "  clip: rect(1px 1px 1px 1px);\n",
              "  clip: rect(1px, 1px, 1px, 1px);\n",
              "  height: 1px;\n",
              "  margin: -1px;\n",
              "  overflow: hidden;\n",
              "  padding: 0;\n",
              "  position: absolute;\n",
              "  width: 1px;\n",
              "}\n",
              "\n",
              "#sk-container-id-1 div.sk-dashed-wrapped {\n",
              "  border: 1px dashed var(--sklearn-color-line);\n",
              "  margin: 0 0.4em 0.5em 0.4em;\n",
              "  box-sizing: border-box;\n",
              "  padding-bottom: 0.4em;\n",
              "  background-color: var(--sklearn-color-background);\n",
              "}\n",
              "\n",
              "#sk-container-id-1 div.sk-container {\n",
              "  /* jupyter's `normalize.less` sets `[hidden] { display: none; }`\n",
              "     but bootstrap.min.css set `[hidden] { display: none !important; }`\n",
              "     so we also need the `!important` here to be able to override the\n",
              "     default hidden behavior on the sphinx rendered scikit-learn.org.\n",
              "     See: https://github.com/scikit-learn/scikit-learn/issues/21755 */\n",
              "  display: inline-block !important;\n",
              "  position: relative;\n",
              "}\n",
              "\n",
              "#sk-container-id-1 div.sk-text-repr-fallback {\n",
              "  display: none;\n",
              "}\n",
              "\n",
              "div.sk-parallel-item,\n",
              "div.sk-serial,\n",
              "div.sk-item {\n",
              "  /* draw centered vertical line to link estimators */\n",
              "  background-image: linear-gradient(var(--sklearn-color-text-on-default-background), var(--sklearn-color-text-on-default-background));\n",
              "  background-size: 2px 100%;\n",
              "  background-repeat: no-repeat;\n",
              "  background-position: center center;\n",
              "}\n",
              "\n",
              "/* Parallel-specific style estimator block */\n",
              "\n",
              "#sk-container-id-1 div.sk-parallel-item::after {\n",
              "  content: \"\";\n",
              "  width: 100%;\n",
              "  border-bottom: 2px solid var(--sklearn-color-text-on-default-background);\n",
              "  flex-grow: 1;\n",
              "}\n",
              "\n",
              "#sk-container-id-1 div.sk-parallel {\n",
              "  display: flex;\n",
              "  align-items: stretch;\n",
              "  justify-content: center;\n",
              "  background-color: var(--sklearn-color-background);\n",
              "  position: relative;\n",
              "}\n",
              "\n",
              "#sk-container-id-1 div.sk-parallel-item {\n",
              "  display: flex;\n",
              "  flex-direction: column;\n",
              "}\n",
              "\n",
              "#sk-container-id-1 div.sk-parallel-item:first-child::after {\n",
              "  align-self: flex-end;\n",
              "  width: 50%;\n",
              "}\n",
              "\n",
              "#sk-container-id-1 div.sk-parallel-item:last-child::after {\n",
              "  align-self: flex-start;\n",
              "  width: 50%;\n",
              "}\n",
              "\n",
              "#sk-container-id-1 div.sk-parallel-item:only-child::after {\n",
              "  width: 0;\n",
              "}\n",
              "\n",
              "/* Serial-specific style estimator block */\n",
              "\n",
              "#sk-container-id-1 div.sk-serial {\n",
              "  display: flex;\n",
              "  flex-direction: column;\n",
              "  align-items: center;\n",
              "  background-color: var(--sklearn-color-background);\n",
              "  padding-right: 1em;\n",
              "  padding-left: 1em;\n",
              "}\n",
              "\n",
              "\n",
              "/* Toggleable style: style used for estimator/Pipeline/ColumnTransformer box that is\n",
              "clickable and can be expanded/collapsed.\n",
              "- Pipeline and ColumnTransformer use this feature and define the default style\n",
              "- Estimators will overwrite some part of the style using the `sk-estimator` class\n",
              "*/\n",
              "\n",
              "/* Pipeline and ColumnTransformer style (default) */\n",
              "\n",
              "#sk-container-id-1 div.sk-toggleable {\n",
              "  /* Default theme specific background. It is overwritten whether we have a\n",
              "  specific estimator or a Pipeline/ColumnTransformer */\n",
              "  background-color: var(--sklearn-color-background);\n",
              "}\n",
              "\n",
              "/* Toggleable label */\n",
              "#sk-container-id-1 label.sk-toggleable__label {\n",
              "  cursor: pointer;\n",
              "  display: flex;\n",
              "  width: 100%;\n",
              "  margin-bottom: 0;\n",
              "  padding: 0.5em;\n",
              "  box-sizing: border-box;\n",
              "  text-align: center;\n",
              "  align-items: start;\n",
              "  justify-content: space-between;\n",
              "  gap: 0.5em;\n",
              "}\n",
              "\n",
              "#sk-container-id-1 label.sk-toggleable__label .caption {\n",
              "  font-size: 0.6rem;\n",
              "  font-weight: lighter;\n",
              "  color: var(--sklearn-color-text-muted);\n",
              "}\n",
              "\n",
              "#sk-container-id-1 label.sk-toggleable__label-arrow:before {\n",
              "  /* Arrow on the left of the label */\n",
              "  content: \"▸\";\n",
              "  float: left;\n",
              "  margin-right: 0.25em;\n",
              "  color: var(--sklearn-color-icon);\n",
              "}\n",
              "\n",
              "#sk-container-id-1 label.sk-toggleable__label-arrow:hover:before {\n",
              "  color: var(--sklearn-color-text);\n",
              "}\n",
              "\n",
              "/* Toggleable content - dropdown */\n",
              "\n",
              "#sk-container-id-1 div.sk-toggleable__content {\n",
              "  max-height: 0;\n",
              "  max-width: 0;\n",
              "  overflow: hidden;\n",
              "  text-align: left;\n",
              "  /* unfitted */\n",
              "  background-color: var(--sklearn-color-unfitted-level-0);\n",
              "}\n",
              "\n",
              "#sk-container-id-1 div.sk-toggleable__content.fitted {\n",
              "  /* fitted */\n",
              "  background-color: var(--sklearn-color-fitted-level-0);\n",
              "}\n",
              "\n",
              "#sk-container-id-1 div.sk-toggleable__content pre {\n",
              "  margin: 0.2em;\n",
              "  border-radius: 0.25em;\n",
              "  color: var(--sklearn-color-text);\n",
              "  /* unfitted */\n",
              "  background-color: var(--sklearn-color-unfitted-level-0);\n",
              "}\n",
              "\n",
              "#sk-container-id-1 div.sk-toggleable__content.fitted pre {\n",
              "  /* unfitted */\n",
              "  background-color: var(--sklearn-color-fitted-level-0);\n",
              "}\n",
              "\n",
              "#sk-container-id-1 input.sk-toggleable__control:checked~div.sk-toggleable__content {\n",
              "  /* Expand drop-down */\n",
              "  max-height: 200px;\n",
              "  max-width: 100%;\n",
              "  overflow: auto;\n",
              "}\n",
              "\n",
              "#sk-container-id-1 input.sk-toggleable__control:checked~label.sk-toggleable__label-arrow:before {\n",
              "  content: \"▾\";\n",
              "}\n",
              "\n",
              "/* Pipeline/ColumnTransformer-specific style */\n",
              "\n",
              "#sk-container-id-1 div.sk-label input.sk-toggleable__control:checked~label.sk-toggleable__label {\n",
              "  color: var(--sklearn-color-text);\n",
              "  background-color: var(--sklearn-color-unfitted-level-2);\n",
              "}\n",
              "\n",
              "#sk-container-id-1 div.sk-label.fitted input.sk-toggleable__control:checked~label.sk-toggleable__label {\n",
              "  background-color: var(--sklearn-color-fitted-level-2);\n",
              "}\n",
              "\n",
              "/* Estimator-specific style */\n",
              "\n",
              "/* Colorize estimator box */\n",
              "#sk-container-id-1 div.sk-estimator input.sk-toggleable__control:checked~label.sk-toggleable__label {\n",
              "  /* unfitted */\n",
              "  background-color: var(--sklearn-color-unfitted-level-2);\n",
              "}\n",
              "\n",
              "#sk-container-id-1 div.sk-estimator.fitted input.sk-toggleable__control:checked~label.sk-toggleable__label {\n",
              "  /* fitted */\n",
              "  background-color: var(--sklearn-color-fitted-level-2);\n",
              "}\n",
              "\n",
              "#sk-container-id-1 div.sk-label label.sk-toggleable__label,\n",
              "#sk-container-id-1 div.sk-label label {\n",
              "  /* The background is the default theme color */\n",
              "  color: var(--sklearn-color-text-on-default-background);\n",
              "}\n",
              "\n",
              "/* On hover, darken the color of the background */\n",
              "#sk-container-id-1 div.sk-label:hover label.sk-toggleable__label {\n",
              "  color: var(--sklearn-color-text);\n",
              "  background-color: var(--sklearn-color-unfitted-level-2);\n",
              "}\n",
              "\n",
              "/* Label box, darken color on hover, fitted */\n",
              "#sk-container-id-1 div.sk-label.fitted:hover label.sk-toggleable__label.fitted {\n",
              "  color: var(--sklearn-color-text);\n",
              "  background-color: var(--sklearn-color-fitted-level-2);\n",
              "}\n",
              "\n",
              "/* Estimator label */\n",
              "\n",
              "#sk-container-id-1 div.sk-label label {\n",
              "  font-family: monospace;\n",
              "  font-weight: bold;\n",
              "  display: inline-block;\n",
              "  line-height: 1.2em;\n",
              "}\n",
              "\n",
              "#sk-container-id-1 div.sk-label-container {\n",
              "  text-align: center;\n",
              "}\n",
              "\n",
              "/* Estimator-specific */\n",
              "#sk-container-id-1 div.sk-estimator {\n",
              "  font-family: monospace;\n",
              "  border: 1px dotted var(--sklearn-color-border-box);\n",
              "  border-radius: 0.25em;\n",
              "  box-sizing: border-box;\n",
              "  margin-bottom: 0.5em;\n",
              "  /* unfitted */\n",
              "  background-color: var(--sklearn-color-unfitted-level-0);\n",
              "}\n",
              "\n",
              "#sk-container-id-1 div.sk-estimator.fitted {\n",
              "  /* fitted */\n",
              "  background-color: var(--sklearn-color-fitted-level-0);\n",
              "}\n",
              "\n",
              "/* on hover */\n",
              "#sk-container-id-1 div.sk-estimator:hover {\n",
              "  /* unfitted */\n",
              "  background-color: var(--sklearn-color-unfitted-level-2);\n",
              "}\n",
              "\n",
              "#sk-container-id-1 div.sk-estimator.fitted:hover {\n",
              "  /* fitted */\n",
              "  background-color: var(--sklearn-color-fitted-level-2);\n",
              "}\n",
              "\n",
              "/* Specification for estimator info (e.g. \"i\" and \"?\") */\n",
              "\n",
              "/* Common style for \"i\" and \"?\" */\n",
              "\n",
              ".sk-estimator-doc-link,\n",
              "a:link.sk-estimator-doc-link,\n",
              "a:visited.sk-estimator-doc-link {\n",
              "  float: right;\n",
              "  font-size: smaller;\n",
              "  line-height: 1em;\n",
              "  font-family: monospace;\n",
              "  background-color: var(--sklearn-color-background);\n",
              "  border-radius: 1em;\n",
              "  height: 1em;\n",
              "  width: 1em;\n",
              "  text-decoration: none !important;\n",
              "  margin-left: 0.5em;\n",
              "  text-align: center;\n",
              "  /* unfitted */\n",
              "  border: var(--sklearn-color-unfitted-level-1) 1pt solid;\n",
              "  color: var(--sklearn-color-unfitted-level-1);\n",
              "}\n",
              "\n",
              ".sk-estimator-doc-link.fitted,\n",
              "a:link.sk-estimator-doc-link.fitted,\n",
              "a:visited.sk-estimator-doc-link.fitted {\n",
              "  /* fitted */\n",
              "  border: var(--sklearn-color-fitted-level-1) 1pt solid;\n",
              "  color: var(--sklearn-color-fitted-level-1);\n",
              "}\n",
              "\n",
              "/* On hover */\n",
              "div.sk-estimator:hover .sk-estimator-doc-link:hover,\n",
              ".sk-estimator-doc-link:hover,\n",
              "div.sk-label-container:hover .sk-estimator-doc-link:hover,\n",
              ".sk-estimator-doc-link:hover {\n",
              "  /* unfitted */\n",
              "  background-color: var(--sklearn-color-unfitted-level-3);\n",
              "  color: var(--sklearn-color-background);\n",
              "  text-decoration: none;\n",
              "}\n",
              "\n",
              "div.sk-estimator.fitted:hover .sk-estimator-doc-link.fitted:hover,\n",
              ".sk-estimator-doc-link.fitted:hover,\n",
              "div.sk-label-container:hover .sk-estimator-doc-link.fitted:hover,\n",
              ".sk-estimator-doc-link.fitted:hover {\n",
              "  /* fitted */\n",
              "  background-color: var(--sklearn-color-fitted-level-3);\n",
              "  color: var(--sklearn-color-background);\n",
              "  text-decoration: none;\n",
              "}\n",
              "\n",
              "/* Span, style for the box shown on hovering the info icon */\n",
              ".sk-estimator-doc-link span {\n",
              "  display: none;\n",
              "  z-index: 9999;\n",
              "  position: relative;\n",
              "  font-weight: normal;\n",
              "  right: .2ex;\n",
              "  padding: .5ex;\n",
              "  margin: .5ex;\n",
              "  width: min-content;\n",
              "  min-width: 20ex;\n",
              "  max-width: 50ex;\n",
              "  color: var(--sklearn-color-text);\n",
              "  box-shadow: 2pt 2pt 4pt #999;\n",
              "  /* unfitted */\n",
              "  background: var(--sklearn-color-unfitted-level-0);\n",
              "  border: .5pt solid var(--sklearn-color-unfitted-level-3);\n",
              "}\n",
              "\n",
              ".sk-estimator-doc-link.fitted span {\n",
              "  /* fitted */\n",
              "  background: var(--sklearn-color-fitted-level-0);\n",
              "  border: var(--sklearn-color-fitted-level-3);\n",
              "}\n",
              "\n",
              ".sk-estimator-doc-link:hover span {\n",
              "  display: block;\n",
              "}\n",
              "\n",
              "/* \"?\"-specific style due to the `<a>` HTML tag */\n",
              "\n",
              "#sk-container-id-1 a.estimator_doc_link {\n",
              "  float: right;\n",
              "  font-size: 1rem;\n",
              "  line-height: 1em;\n",
              "  font-family: monospace;\n",
              "  background-color: var(--sklearn-color-background);\n",
              "  border-radius: 1rem;\n",
              "  height: 1rem;\n",
              "  width: 1rem;\n",
              "  text-decoration: none;\n",
              "  /* unfitted */\n",
              "  color: var(--sklearn-color-unfitted-level-1);\n",
              "  border: var(--sklearn-color-unfitted-level-1) 1pt solid;\n",
              "}\n",
              "\n",
              "#sk-container-id-1 a.estimator_doc_link.fitted {\n",
              "  /* fitted */\n",
              "  border: var(--sklearn-color-fitted-level-1) 1pt solid;\n",
              "  color: var(--sklearn-color-fitted-level-1);\n",
              "}\n",
              "\n",
              "/* On hover */\n",
              "#sk-container-id-1 a.estimator_doc_link:hover {\n",
              "  /* unfitted */\n",
              "  background-color: var(--sklearn-color-unfitted-level-3);\n",
              "  color: var(--sklearn-color-background);\n",
              "  text-decoration: none;\n",
              "}\n",
              "\n",
              "#sk-container-id-1 a.estimator_doc_link.fitted:hover {\n",
              "  /* fitted */\n",
              "  background-color: var(--sklearn-color-fitted-level-3);\n",
              "}\n",
              "</style><div id=\"sk-container-id-1\" class=\"sk-top-container\"><div class=\"sk-text-repr-fallback\"><pre>VotingClassifier(estimators=[(&#x27;rf&#x27;,\n",
              "                              RandomForestClassifier(max_depth=8,\n",
              "                                                     n_estimators=200,\n",
              "                                                     n_jobs=-1,\n",
              "                                                     random_state=42)),\n",
              "                             (&#x27;gb&#x27;,\n",
              "                              GradientBoostingClassifier(max_depth=6,\n",
              "                                                         n_estimators=150,\n",
              "                                                         random_state=42))],\n",
              "                 voting=&#x27;soft&#x27;)</pre><b>In a Jupyter environment, please rerun this cell to show the HTML representation or trust the notebook. <br />On GitHub, the HTML representation is unable to render, please try loading this page with nbviewer.org.</b></div><div class=\"sk-container\" hidden><div class=\"sk-item sk-dashed-wrapped\"><div class=\"sk-label-container\"><div class=\"sk-label fitted sk-toggleable\"><input class=\"sk-toggleable__control sk-hidden--visually\" id=\"sk-estimator-id-1\" type=\"checkbox\" ><label for=\"sk-estimator-id-1\" class=\"sk-toggleable__label fitted sk-toggleable__label-arrow\"><div><div>VotingClassifier</div></div><div><a class=\"sk-estimator-doc-link fitted\" rel=\"noreferrer\" target=\"_blank\" href=\"https://scikit-learn.org/1.6/modules/generated/sklearn.ensemble.VotingClassifier.html\">?<span>Documentation for VotingClassifier</span></a><span class=\"sk-estimator-doc-link fitted\">i<span>Fitted</span></span></div></label><div class=\"sk-toggleable__content fitted\"><pre>VotingClassifier(estimators=[(&#x27;rf&#x27;,\n",
              "                              RandomForestClassifier(max_depth=8,\n",
              "                                                     n_estimators=200,\n",
              "                                                     n_jobs=-1,\n",
              "                                                     random_state=42)),\n",
              "                             (&#x27;gb&#x27;,\n",
              "                              GradientBoostingClassifier(max_depth=6,\n",
              "                                                         n_estimators=150,\n",
              "                                                         random_state=42))],\n",
              "                 voting=&#x27;soft&#x27;)</pre></div> </div></div><div class=\"sk-parallel\"><div class=\"sk-parallel-item\"><div class=\"sk-item\"><div class=\"sk-label-container\"><div class=\"sk-label fitted sk-toggleable\"><label>rf</label></div></div><div class=\"sk-serial\"><div class=\"sk-item\"><div class=\"sk-estimator fitted sk-toggleable\"><input class=\"sk-toggleable__control sk-hidden--visually\" id=\"sk-estimator-id-2\" type=\"checkbox\" ><label for=\"sk-estimator-id-2\" class=\"sk-toggleable__label fitted sk-toggleable__label-arrow\"><div><div>RandomForestClassifier</div></div><div><a class=\"sk-estimator-doc-link fitted\" rel=\"noreferrer\" target=\"_blank\" href=\"https://scikit-learn.org/1.6/modules/generated/sklearn.ensemble.RandomForestClassifier.html\">?<span>Documentation for RandomForestClassifier</span></a></div></label><div class=\"sk-toggleable__content fitted\"><pre>RandomForestClassifier(max_depth=8, n_estimators=200, n_jobs=-1,\n",
              "                       random_state=42)</pre></div> </div></div></div></div></div><div class=\"sk-parallel-item\"><div class=\"sk-item\"><div class=\"sk-label-container\"><div class=\"sk-label fitted sk-toggleable\"><label>gb</label></div></div><div class=\"sk-serial\"><div class=\"sk-item\"><div class=\"sk-estimator fitted sk-toggleable\"><input class=\"sk-toggleable__control sk-hidden--visually\" id=\"sk-estimator-id-3\" type=\"checkbox\" ><label for=\"sk-estimator-id-3\" class=\"sk-toggleable__label fitted sk-toggleable__label-arrow\"><div><div>GradientBoostingClassifier</div></div><div><a class=\"sk-estimator-doc-link fitted\" rel=\"noreferrer\" target=\"_blank\" href=\"https://scikit-learn.org/1.6/modules/generated/sklearn.ensemble.GradientBoostingClassifier.html\">?<span>Documentation for GradientBoostingClassifier</span></a></div></label><div class=\"sk-toggleable__content fitted\"><pre>GradientBoostingClassifier(max_depth=6, n_estimators=150, random_state=42)</pre></div> </div></div></div></div></div></div></div></div></div>"
            ],
            "text/plain": [
              "VotingClassifier(estimators=[('rf',\n",
              "                              RandomForestClassifier(max_depth=8,\n",
              "                                                     n_estimators=200,\n",
              "                                                     n_jobs=-1,\n",
              "                                                     random_state=42)),\n",
              "                             ('gb',\n",
              "                              GradientBoostingClassifier(max_depth=6,\n",
              "                                                         n_estimators=150,\n",
              "                                                         random_state=42))],\n",
              "                 voting='soft')"
            ]
          },
          "execution_count": 28,
          "metadata": {},
          "output_type": "execute_result"
        }
      ],
      "source": [
        "from sklearn.model_selection import train_test_split\n",
        "\n",
        "X_train, X_val, y_train, y_val = train_test_split(\n",
        "    X, y, test_size=0.2, random_state=42, stratify=y\n",
        ")\n",
        "\n",
        "rf = RandomForestClassifier(n_estimators=200, max_depth=8, n_jobs=-1, random_state=42)\n",
        "gb = GradientBoostingClassifier(n_estimators=150, learning_rate=0.1, max_depth=6, random_state=42)\n",
        "\n",
        "voting_clf = VotingClassifier(\n",
        "    estimators=[('rf', rf), ('gb', gb)],\n",
        "    voting='soft'\n",
        ")\n",
        "\n",
        "print(\"Обучение ансамбля на цветовых признаках...\")\n",
        "voting_clf.fit(X_train, y_train)"
      ]
    },
    {
      "cell_type": "code",
      "execution_count": null,
      "metadata": {
        "colab": {
          "base_uri": "https://localhost:8080/"
        },
        "id": "gpd9NFUyUinz",
        "outputId": "3bee62c7-3b74-4ad0-a3a4-fdaf2d8f628a"
      },
      "outputs": [
        {
          "name": "stdout",
          "output_type": "stream",
          "text": [
            "\n",
            "Отчёт по валидации (цветовые признаки):\n",
            "              precision    recall  f1-score   support\n",
            "\n",
            "    airplane       0.33      0.36      0.34       398\n",
            "  automobile       0.22      0.25      0.23       396\n",
            "        bird       0.16      0.10      0.12       409\n",
            "         cat       0.21      0.15      0.17       402\n",
            "        deer       0.21      0.18      0.19       402\n",
            "         dog       0.16      0.08      0.10       385\n",
            "        frog       0.25      0.31      0.28       408\n",
            "       horse       0.18      0.23      0.21       405\n",
            "        ship       0.31      0.45      0.37       402\n",
            "       truck       0.20      0.23      0.21       393\n",
            "\n",
            "    accuracy                           0.23      4000\n",
            "   macro avg       0.22      0.23      0.22      4000\n",
            "weighted avg       0.22      0.23      0.22      4000\n",
            "\n"
          ]
        }
      ],
      "source": [
        "from sklearn.metrics import classification_report\n",
        "\n",
        "y_pred = voting_clf.predict(X_val)\n",
        "\n",
        "print(\"\\nОтчёт по валидации (цветовые признаки):\")\n",
        "print(classification_report(y_val, y_pred, target_names=le.classes_))"
      ]
    },
    {
      "cell_type": "code",
      "execution_count": null,
      "metadata": {
        "colab": {
          "base_uri": "https://localhost:8080/"
        },
        "id": "7TPn-w43Uk29",
        "outputId": "ae2a4cd6-f0b8-4b62-e274-06ab41b12d6c"
      },
      "outputs": [
        {
          "name": "stdout",
          "output_type": "stream",
          "text": [
            "Найдено тестовых файлов: 5000\n"
          ]
        },
        {
          "name": "stderr",
          "output_type": "stream",
          "text": [
            "Обработка тестовых изображений: 100%|██████████| 5000/5000 [01:36<00:00, 51.80it/s] \n"
          ]
        },
        {
          "name": "stdout",
          "output_type": "stream",
          "text": [
            "\n",
            "/content/testLabels2.csv\n"
          ]
        }
      ],
      "source": [
        "def load_test_images_color(image_dir, img_size=(64, 64)):\n",
        "    features = []\n",
        "    filenames = []\n",
        "\n",
        "    all_files = [f for f in os.listdir(image_dir) if f.lower().endswith(('.png'))]\n",
        "    print(f\"Найдено тестовых файлов: {len(all_files)}\")\n",
        "\n",
        "    for filename in tqdm(all_files, desc=\"Обработка тестовых изображений\"):\n",
        "        img_path = os.path.join(image_dir, filename)\n",
        "        img = cv2.imread(img_path)\n",
        "        if img is None:\n",
        "            continue\n",
        "\n",
        "        img = cv2.resize(img, img_size)\n",
        "\n",
        "        try:\n",
        "            color_feat = extract_color_features(img)\n",
        "            features.append(color_feat)\n",
        "            filenames.append(filename)\n",
        "        except:\n",
        "            continue\n",
        "\n",
        "    return np.array(features), filenames\n",
        "\n",
        "X_test, test_filenames = load_test_images_color(TEST_PATH)\n",
        "\n",
        "y_test_pred_encoded = voting_clf.predict(X_test)\n",
        "y_test_pred = le.inverse_transform(y_test_pred_encoded)\n",
        "\n",
        "test_results = pd.DataFrame({\n",
        "    'id': test_filenames,\n",
        "    'label': y_test_pred\n",
        "})\n",
        "\n",
        "# Убираем расширение из id\n",
        "test_results['id'] = test_results['id'].apply(lambda x: x.split('.')[0])\n",
        "\n",
        "output_path = \"/content/testLabels2.csv\"\n",
        "test_results.to_csv(output_path, index=False)\n",
        "print(f\"\\n{output_path}\")"
      ]
    },
    {
      "cell_type": "markdown",
      "metadata": {
        "id": "BbBiCxajWYP9"
      },
      "source": [
        "round3"
      ]
    },
    {
      "cell_type": "code",
      "execution_count": 1,
      "metadata": {
        "colab": {
          "base_uri": "https://localhost:8080/"
        },
        "id": "LabhhuSMcMLQ",
        "outputId": "59ded018-e8d6-45e3-f20d-13e94ef2cb54"
      },
      "outputs": [
        {
          "output_type": "stream",
          "name": "stdout",
          "text": [
            "Drive already mounted at /content/drive; to attempt to forcibly remount, call drive.mount(\"/content/drive\", force_remount=True).\n"
          ]
        }
      ],
      "source": [
        "from google.colab import drive\n",
        "drive.mount('/content/drive')\n",
        "\n",
        "import os\n",
        "import pandas as pd\n",
        "import numpy as np\n",
        "import cv2\n",
        "from tqdm import tqdm\n",
        "import tensorflow as tf\n",
        "from tensorflow.keras.applications import ResNet50\n",
        "from tensorflow.keras.layers import Dense, GlobalAveragePooling2D, Dropout\n",
        "from tensorflow.keras.models import Model\n",
        "from tensorflow.keras.preprocessing.image import ImageDataGenerator\n",
        "from sklearn.preprocessing import LabelEncoder\n",
        "from sklearn.model_selection import train_test_split\n",
        "import matplotlib.pyplot as plt"
      ]
    },
    {
      "cell_type": "code",
      "execution_count": 2,
      "metadata": {
        "colab": {
          "base_uri": "https://localhost:8080/"
        },
        "id": "16IerPCFcPOi",
        "outputId": "e194f74c-6c60-42d1-8ddd-44ef457b0451"
      },
      "outputs": [
        {
          "output_type": "stream",
          "name": "stdout",
          "text": [
            "Количество классов: 10\n",
            "Примеры: \n",
            "   id       label  label_encoded\n",
            "0   1        frog              6\n",
            "1   2       truck              9\n",
            "2   3       truck              9\n",
            "3   4        deer              4\n",
            "4   5  automobile              1\n"
          ]
        }
      ],
      "source": [
        "BASE_PATH = \"/content/drive/MyDrive/cifar\"\n",
        "TRAIN_PATH = f\"{BASE_PATH}/train/train\"\n",
        "TEST_PATH = f\"{BASE_PATH}/test/output\"\n",
        "LABELS_PATH = f\"{BASE_PATH}/trainLabels.csv\"\n",
        "\n",
        "# Загружаем метки\n",
        "df_labels = pd.read_csv(LABELS_PATH)\n",
        "le = LabelEncoder()\n",
        "df_labels['label_encoded'] = le.fit_transform(df_labels['label'])\n",
        "num_classes = len(le.classes_)\n",
        "\n",
        "print(f\"Количество классов: {num_classes}\")\n",
        "print(f\"Примеры: \\n{df_labels.head()}\")"
      ]
    },
    {
      "cell_type": "code",
      "source": [
        "from PIL import Image\n",
        "\n",
        "def load_images_pil(image_dir, df, img_size=(224, 224)):\n",
        "    all_files = set(os.listdir(image_dir))\n",
        "    X = []\n",
        "    y = []\n",
        "\n",
        "    for _, row in tqdm(df.iterrows(), total=len(df)):\n",
        "        fname = f\"{row['id']}.png\"\n",
        "        if fname not in all_files:\n",
        "            continue\n",
        "        path = os.path.join(image_dir, fname)\n",
        "        with Image.open(path) as img:\n",
        "            img = img.convert('RGB')\n",
        "            img = img.resize(img_size, Image.Resampling.LANCZOS)\n",
        "            img_array = np.array(img, dtype=np.float32) / 255.0\n",
        "        X.append(img_array)\n",
        "        y.append(row['label_encoded'])\n",
        "\n",
        "    return np.stack(X), np.array(y)\n",
        "\n",
        "# Загружаем данные\n",
        "X, y, train_filenames = load_images_pil(TRAIN_PATH, df_labels)\n",
        "print(f\"Размер X: {X.shape}\")  # Должно быть (N, 224, 224, 3)"
      ],
      "metadata": {
        "id": "qe3Jpcu01XKX"
      },
      "execution_count": null,
      "outputs": []
    },
    {
      "cell_type": "code",
      "execution_count": null,
      "metadata": {
        "colab": {
          "base_uri": "https://localhost:8080/"
        },
        "id": "hnPjZYYicRRd",
        "outputId": "7db50f68-5799-46c6-cbf8-03fa9a963728"
      },
      "outputs": [
        {
          "output_type": "stream",
          "name": "stderr",
          "text": [
            " 25%|██▌       | 5082/19999 [02:36<23:04:43,  5.57s/it]"
          ]
        }
      ],
      "source": [
        "def load_images_for_resnet(image_dir, df, img_size=(224, 224)):\n",
        "    X = []\n",
        "    y = []\n",
        "    filenames = []\n",
        "\n",
        "    for _, row in tqdm(df.iterrows(), total=1000, desc=\"Загрузка и апскейл изображений\"):\n",
        "        found = False\n",
        "        for ext in ['.png']:\n",
        "            filename = f\"{row['id']}{ext}\"\n",
        "            img_path = os.path.join(image_dir, filename)\n",
        "            if os.path.exists(img_path):\n",
        "                found = True\n",
        "                break\n",
        "\n",
        "        # Загружаем\n",
        "        img = cv2.imread(img_path)\n",
        "\n",
        "        # BGR → RGB\n",
        "        img = cv2.cvtColor(img, cv2.COLOR_BGR2RGB)\n",
        "\n",
        "        # Апскейл до 224x224\n",
        "        img = cv2.resize(img, img_size, interpolation=cv2.INTER_CUBIC)\n",
        "\n",
        "        # Нормализация\n",
        "        img = img.astype(np.float32) / 255.0\n",
        "\n",
        "        X.append(img)\n",
        "        y.append(row['label_encoded'])\n",
        "        filenames.append(filename)\n",
        "\n",
        "    return np.array(X), np.array(y), filenames\n",
        "\n",
        "# Загружаем данные\n",
        "X, y, train_filenames = load_images_for_resnet(TRAIN_PATH, df_labels)\n",
        "print(f\"Размер X: {X.shape}\")  # Должно быть (N, 224, 224, 3)"
      ]
    },
    {
      "cell_type": "code",
      "source": [
        "def load_images_for_resnet(image_dir, df, img_size=(224, 224)):\n",
        "    all_files = set(os.listdir(image_dir))\n",
        "\n",
        "    X = []\n",
        "    y = []\n",
        "    filenames = []\n",
        "\n",
        "    for _, row in tqdm(df.iterrows(), total=len(df), desc=\"Загрузка и апскейл изображений\"):\n",
        "        filename = f\"{row['id']}.png\"\n",
        "        if filename not in all_files:\n",
        "            print(f\"Пропущено: {filename} не найден\")\n",
        "            continue\n",
        "\n",
        "        img_path = os.path.join(image_dir, filename)\n",
        "        img = cv2.imread(img_path)\n",
        "        img = cv2.cvtColor(img, cv2.COLOR_BGR2RGB)\n",
        "        img = cv2.resize(img, img_size, interpolation=cv2.INTER_CUBIC)\n",
        "        img = img.astype(np.float32) / 255.0\n",
        "\n",
        "        X.append(img)\n",
        "        y.append(row['label_encoded'])\n",
        "        filenames.append(filename)\n",
        "\n",
        "    return np.array(X), np.array(y), filenames\n",
        "\n",
        "# Загружаем данные\n",
        "X, y, train_filenames = load_images_for_resnet(TRAIN_PATH, df_labels)\n",
        "print(f\"Размер X: {X.shape}\")  # Должно быть (N, 224, 224, 3)"
      ],
      "metadata": {
        "id": "bA1QhyeT1PYW"
      },
      "execution_count": null,
      "outputs": []
    },
    {
      "cell_type": "code",
      "execution_count": null,
      "metadata": {
        "colab": {
          "base_uri": "https://localhost:8080/",
          "height": 176
        },
        "id": "VvP_kOTHccvG",
        "outputId": "2debce66-3740-470d-e481-6cb5835d580c"
      },
      "outputs": [
        {
          "ename": "NameError",
          "evalue": "name 'train_test_split' is not defined",
          "output_type": "error",
          "traceback": [
            "\u001b[0;31m---------------------------------------------------------------------------\u001b[0m",
            "\u001b[0;31mNameError\u001b[0m                                 Traceback (most recent call last)",
            "\u001b[0;32m/tmp/ipython-input-2585414568.py\u001b[0m in \u001b[0;36m<cell line: 0>\u001b[0;34m()\u001b[0m\n\u001b[0;32m----> 1\u001b[0;31m X_train, X_val, y_train, y_val = train_test_split(\n\u001b[0m\u001b[1;32m      2\u001b[0m     \u001b[0mX\u001b[0m\u001b[0;34m,\u001b[0m \u001b[0my\u001b[0m\u001b[0;34m,\u001b[0m \u001b[0mtest_size\u001b[0m\u001b[0;34m=\u001b[0m\u001b[0;36m0.2\u001b[0m\u001b[0;34m,\u001b[0m \u001b[0mrandom_state\u001b[0m\u001b[0;34m=\u001b[0m\u001b[0;36m42\u001b[0m\u001b[0;34m,\u001b[0m \u001b[0mstratify\u001b[0m\u001b[0;34m=\u001b[0m\u001b[0my\u001b[0m\u001b[0;34m\u001b[0m\u001b[0;34m\u001b[0m\u001b[0m\n\u001b[1;32m      3\u001b[0m )\n",
            "\u001b[0;31mNameError\u001b[0m: name 'train_test_split' is not defined"
          ]
        }
      ],
      "source": [
        "X_train, X_val, y_train, y_val = train_test_split(\n",
        "    X, y, test_size=0.2, random_state=42, stratify=y\n",
        ")"
      ]
    },
    {
      "cell_type": "code",
      "execution_count": null,
      "metadata": {
        "id": "Phmu-Q7Gcdgk"
      },
      "outputs": [],
      "source": [
        "base_model = ResNet50(\n",
        "    weights='imagenet',\n",
        "    include_top=False,\n",
        "    input_shape=(224, 224, 3)\n",
        ")\n",
        "\n",
        "# Замораживаем базовую сеть\n",
        "base_model.trainable = False\n",
        "\n",
        "# Добавляем свои слои\n",
        "model = tf.keras.Sequential([\n",
        "    base_model,\n",
        "    GlobalAveragePooling2D(),\n",
        "    Dropout(0.5),\n",
        "    Dense(512, activation='relu'),\n",
        "    Dropout(0.3),\n",
        "    Dense(num_classes, activation='softmax')\n",
        "])\n",
        "\n",
        "# Компиляция\n",
        "model.compile(\n",
        "    optimizer=tf.keras.optimizers.Adam(learning_rate=0.0001),\n",
        "    loss='sparse_categorical_crossentropy',\n",
        "    metrics=['accuracy']\n",
        ")\n",
        "\n",
        "model.summary()"
      ]
    },
    {
      "cell_type": "code",
      "execution_count": null,
      "metadata": {
        "id": "gxIOyAwpceka"
      },
      "outputs": [],
      "source": [
        "early_stopping = tf.keras.callbacks.EarlyStopping(\n",
        "    monitor='val_loss', patience=5, restore_best_weights=True\n",
        ")\n",
        "\n",
        "reduce_lr = tf.keras.callbacks.ReduceLROnPlateau(\n",
        "    monitor='val_loss', factor=0.5, patience=3, min_lr=1e-7\n",
        ")\n",
        "\n",
        "history = model.fit(\n",
        "    X_train, y_train,\n",
        "    epochs=30,\n",
        "    batch_size=32,\n",
        "    validation_data=(X_val, y_val),\n",
        "    callbacks=[early_stopping, reduce_lr],\n",
        "    verbose=1\n",
        ")"
      ]
    },
    {
      "cell_type": "code",
      "execution_count": null,
      "metadata": {
        "id": "wPbNvJI9pdfV"
      },
      "outputs": [],
      "source": [
        "plt.figure(figsize=(14, 5))\n",
        "\n",
        "# Точность\n",
        "plt.subplot(1, 2, 1)\n",
        "plt.plot(history.history['accuracy'], label='Train Accuracy')\n",
        "plt.plot(history.history['val_accuracy'], label='Val Accuracy')\n",
        "plt.title('Точность по эпохам')\n",
        "plt.xlabel('Эпоха')\n",
        "plt.ylabel('Accuracy')\n",
        "plt.legend()\n",
        "\n",
        "# Потери\n",
        "plt.subplot(1, 2, 2)\n",
        "plt.plot(history.history['loss'], label='Train Loss')\n",
        "plt.plot(history.history['val_loss'], label='Val Loss')\n",
        "plt.title('Потери по эпохам')\n",
        "plt.xlabel('Эпоха')\n",
        "plt.ylabel('Loss')\n",
        "plt.legend()\n",
        "\n",
        "plt.tight_layout()\n",
        "plt.show()"
      ]
    },
    {
      "cell_type": "code",
      "execution_count": null,
      "metadata": {
        "id": "1Jdc33aqphBc"
      },
      "outputs": [],
      "source": [
        "# Выберем случайные 6 изображений из валидационного набора\n",
        "indices = np.random.choice(range(len(X_val)), 6, replace=False)\n",
        "plt.figure(figsize=(15, 10))\n",
        "\n",
        "for i, idx in enumerate(indices):\n",
        "    img = X_val[idx]\n",
        "    true_label = le.classes_[y_val[idx]]\n",
        "\n",
        "    pred_probs = model.predict(np.expand_dims(img, axis=0), verbose=0)\n",
        "    pred_label = le.classes_[np.argmax(pred_probs)]\n",
        "\n",
        "    plt.subplot(2, 3, i + 1)\n",
        "    plt.imshow(img)\n",
        "    plt.title(f\"Истинно: {true_label}\\nПредсказано: {pred_label}\",\n",
        "              color='green' if true_label == pred_label else 'red')\n",
        "    plt.axis('off')\n",
        "\n",
        "plt.suptitle(\"Примеры предсказаний модели\", fontsize=16)\n",
        "plt.tight_layout()\n",
        "plt.show()"
      ]
    },
    {
      "cell_type": "code",
      "execution_count": null,
      "metadata": {
        "id": "094bb8mDch90"
      },
      "outputs": [],
      "source": [
        "def load_test_images_for_resnet(image_dir, img_size=(224, 224)):\n",
        "    X = []\n",
        "    filenames = []\n",
        "\n",
        "    all_files = [f for f in os.listdir(image_dir) if f.lower().endswith(('.png'))]\n",
        "    print(f\"Найдено тестовых файлов: {len(all_files)}\")\n",
        "\n",
        "    for filename in tqdm(all_files, desc=\"Обработка теста\"):\n",
        "        img_path = os.path.join(image_dir, filename)\n",
        "        img = cv2.imread(img_path)\n",
        "        if img is None:\n",
        "            continue\n",
        "\n",
        "        img = cv2.cvtColor(img, cv2.COLOR_BGR2RGB)\n",
        "        img = cv2.resize(img, img_size, interpolation=cv2.INTER_CUBIC)\n",
        "        img = img.astype(np.float32) / 255.0\n",
        "\n",
        "        X.append(img)\n",
        "        filenames.append(filename)\n",
        "\n",
        "    return np.array(X), filenames\n",
        "\n",
        "X_test, test_filenames = load_test_images_for_resnet(TEST_PATH)\n",
        "\n",
        "preds = model.predict(X_test)\n",
        "y_test_pred_encoded = np.argmax(preds, axis=1)\n",
        "y_test_pred = le.inverse_transform(y_test_pred_encoded)"
      ]
    },
    {
      "cell_type": "code",
      "source": [
        "N = 6  # количество изображений для отображения\n",
        "\n",
        "# Получим список всех тестовых файлов\n",
        "test_image_paths = [os.path.join(TEST_PATH, f) for f in os.listdir(TEST_PATH) if f.lower().endswith('.png')]\n",
        "np.random.shuffle(test_image_paths)\n",
        "test_image_paths = test_image_paths[:N]\n",
        "\n",
        "plt.figure(figsize=(15, 10))\n",
        "\n",
        "for i, img_path in enumerate(test_image_paths):\n",
        "    # Загрузка и обработка\n",
        "    img = cv2.imread(img_path)\n",
        "    img_rgb = cv2.cvtColor(img, cv2.COLOR_BGR2RGB)\n",
        "    img_resized = cv2.resize(img_rgb, (224, 224))\n",
        "    img_normalized = img_resized.astype(np.float32) / 255.0\n",
        "    img_tensor = np.expand_dims(img_normalized, axis=0)\n",
        "\n",
        "    # Предсказание\n",
        "    pred_probs = model.predict(img_tensor, verbose=0)\n",
        "    pred_label = le.classes_[np.argmax(pred_probs)]\n",
        "    confidence = np.max(pred_probs)\n",
        "\n",
        "    # Отображение\n",
        "    plt.subplot(2, 3, i + 1)\n",
        "    plt.imshow(img_rgb)\n",
        "    plt.title(f\"Предсказано: {pred_label}\\n(доверие: {confidence:.2f})\",\n",
        "              color='blue', fontsize=10)\n",
        "    plt.axis('off')\n",
        "\n",
        "plt.suptitle(\"Примеры предсказаний на тестовых изображениях\", fontsize=16)\n",
        "plt.tight_layout()\n",
        "plt.show()"
      ],
      "metadata": {
        "id": "esFe27ZIRyIJ"
      },
      "execution_count": null,
      "outputs": []
    },
    {
      "cell_type": "code",
      "source": [
        "test_results = pd.DataFrame({\n",
        "    'id': [f.split('.')[0] for f in test_filenames],\n",
        "    'label': y_test_pred\n",
        "})\n",
        "\n",
        "test_results.to_csv('/content/testLabels_ResNet50.csv', index=False)"
      ],
      "metadata": {
        "id": "DukfXUbvR11S"
      },
      "execution_count": null,
      "outputs": []
    }
  ],
  "metadata": {
    "colab": {
      "provenance": [],
      "authorship_tag": "ABX9TyO0Cqsc7hrZLejeTWVopt58",
      "include_colab_link": true
    },
    "kernelspec": {
      "display_name": "Python 3",
      "name": "python3"
    },
    "language_info": {
      "name": "python"
    }
  },
  "nbformat": 4,
  "nbformat_minor": 0
}
