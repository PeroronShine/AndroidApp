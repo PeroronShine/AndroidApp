{
  "cells": [
    {
      "cell_type": "markdown",
      "metadata": {
        "id": "view-in-github",
        "colab_type": "text"
      },
      "source": [
        "<a href=\"https://colab.research.google.com/github/PeroronShine/AndroidApp/blob/main/ML2.ipynb\" target=\"_parent\"><img src=\"https://colab.research.google.com/assets/colab-badge.svg\" alt=\"Open In Colab\"/></a>"
      ]
    },
    {
      "cell_type": "code",
      "execution_count": null,
      "metadata": {
        "id": "LabhhuSMcMLQ"
      },
      "outputs": [],
      "source": [
        "from google.colab import drive\n",
        "drive.mount('/content/drive')\n",
        "\n",
        "import os\n",
        "import pandas as pd\n",
        "import numpy as np\n",
        "import cv2\n",
        "from tqdm import tqdm\n",
        "import tensorflow as tf\n",
        "from tensorflow.keras.applications import ResNet50\n",
        "from tensorflow.keras.layers import Dense, GlobalAveragePooling2D, Dropout\n",
        "from tensorflow.keras.models import Model\n",
        "from tensorflow.keras.preprocessing.image import ImageDataGenerator\n",
        "from sklearn.preprocessing import LabelEncoder\n",
        "from sklearn.model_selection import train_test_split\n",
        "import matplotlib.pyplot as plt"
      ]
    },
    {
      "cell_type": "code",
      "execution_count": null,
      "metadata": {
        "id": "16IerPCFcPOi"
      },
      "outputs": [],
      "source": [
        "BASE_PATH = \"/content/drive/MyDrive/cifar\"\n",
        "TRAIN_PATH = f\"{BASE_PATH}/train/train\"\n",
        "TEST_PATH = f\"{BASE_PATH}/test/output\"\n",
        "LABELS_PATH = f\"{BASE_PATH}/trainLabels.csv\"\n",
        "\n",
        "# Загружаем метки\n",
        "df_labels = pd.read_csv(LABELS_PATH)\n",
        "le = LabelEncoder()\n",
        "df_labels['label_encoded'] = le.fit_transform(df_labels['label'])\n",
        "num_classes = len(le.classes_)\n",
        "\n",
        "print(f\"Количество классов: {num_classes}\")\n",
        "print(f\"Примеры: \\n{df_labels.head()}\")"
      ]
    },
    {
      "cell_type": "code",
      "source": [
        "from PIL import Image\n",
        "\n",
        "def load_images_pil(image_dir, df, img_size=(224, 224)):\n",
        "    all_files = set(os.listdir(image_dir))\n",
        "    X = []\n",
        "    y = []\n",
        "\n",
        "    for _, row in tqdm(df.iterrows(), total=len(df)):\n",
        "        fname = f\"{row['id']}.png\"\n",
        "        if fname not in all_files:\n",
        "            continue\n",
        "        path = os.path.join(image_dir, fname)\n",
        "        with Image.open(path) as img:\n",
        "            img = img.convert('RGB')\n",
        "            img = img.resize(img_size, Image.Resampling.LANCZOS)\n",
        "            img_array = np.array(img, dtype=np.float32) / 255.0\n",
        "        X.append(img_array)\n",
        "        y.append(row['label_encoded'])\n",
        "\n",
        "    return np.stack(X), np.array(y)\n",
        "\n",
        "# Загружаем данные\n",
        "X, y, train_filenames = load_images_pil(TRAIN_PATH, df_labels)\n",
        "print(f\"Размер X: {X.shape}\")  # Должно быть (N, 224, 224, 3)"
      ],
      "metadata": {
        "id": "qe3Jpcu01XKX"
      },
      "execution_count": null,
      "outputs": []
    },
    {
      "cell_type": "code",
      "execution_count": null,
      "metadata": {
        "id": "VvP_kOTHccvG"
      },
      "outputs": [],
      "source": [
        "X_train, X_val, y_train, y_val = train_test_split(\n",
        "    X, y, test_size=0.2, random_state=42, stratify=y\n",
        ")"
      ]
    },
    {
      "cell_type": "code",
      "execution_count": null,
      "metadata": {
        "id": "Phmu-Q7Gcdgk"
      },
      "outputs": [],
      "source": [
        "base_model = ResNet50(\n",
        "    weights='imagenet',\n",
        "    include_top=False,\n",
        "    input_shape=(224, 224, 3)\n",
        ")\n",
        "\n",
        "# Замораживаем базовую сеть\n",
        "base_model.trainable = False\n",
        "\n",
        "# Добавляем свои слои\n",
        "model = tf.keras.Sequential([\n",
        "    base_model,\n",
        "    GlobalAveragePooling2D(),\n",
        "    Dropout(0.5),\n",
        "    Dense(512, activation='relu'),\n",
        "    Dropout(0.3),\n",
        "    Dense(num_classes, activation='softmax')\n",
        "])\n",
        "\n",
        "# Компиляция\n",
        "model.compile(\n",
        "    optimizer=tf.keras.optimizers.Adam(learning_rate=0.0001),\n",
        "    loss='sparse_categorical_crossentropy',\n",
        "    metrics=['accuracy']\n",
        ")\n",
        "\n",
        "model.summary()"
      ]
    },
    {
      "cell_type": "code",
      "execution_count": null,
      "metadata": {
        "id": "gxIOyAwpceka"
      },
      "outputs": [],
      "source": [
        "early_stopping = tf.keras.callbacks.EarlyStopping(\n",
        "    monitor='val_loss', patience=5, restore_best_weights=True\n",
        ")\n",
        "\n",
        "reduce_lr = tf.keras.callbacks.ReduceLROnPlateau(\n",
        "    monitor='val_loss', factor=0.5, patience=3, min_lr=1e-7\n",
        ")\n",
        "\n",
        "history = model.fit(\n",
        "    X_train, y_train,\n",
        "    epochs=30,\n",
        "    batch_size=32,\n",
        "    validation_data=(X_val, y_val),\n",
        "    callbacks=[early_stopping, reduce_lr],\n",
        "    verbose=1\n",
        ")"
      ]
    },
    {
      "cell_type": "code",
      "execution_count": null,
      "metadata": {
        "id": "wPbNvJI9pdfV"
      },
      "outputs": [],
      "source": [
        "plt.figure(figsize=(14, 5))\n",
        "\n",
        "# Точность\n",
        "plt.subplot(1, 2, 1)\n",
        "plt.plot(history.history['accuracy'], label='Train Accuracy')\n",
        "plt.plot(history.history['val_accuracy'], label='Val Accuracy')\n",
        "plt.title('Точность по эпохам')\n",
        "plt.xlabel('Эпоха')\n",
        "plt.ylabel('Accuracy')\n",
        "plt.legend()\n",
        "\n",
        "# Потери\n",
        "plt.subplot(1, 2, 2)\n",
        "plt.plot(history.history['loss'], label='Train Loss')\n",
        "plt.plot(history.history['val_loss'], label='Val Loss')\n",
        "plt.title('Потери по эпохам')\n",
        "plt.xlabel('Эпоха')\n",
        "plt.ylabel('Loss')\n",
        "plt.legend()\n",
        "\n",
        "plt.tight_layout()\n",
        "plt.show()"
      ]
    },
    {
      "cell_type": "code",
      "execution_count": null,
      "metadata": {
        "id": "1Jdc33aqphBc"
      },
      "outputs": [],
      "source": [
        "# Выберем случайные 6 изображений из валидационного набора\n",
        "indices = np.random.choice(range(len(X_val)), 6, replace=False)\n",
        "plt.figure(figsize=(15, 10))\n",
        "\n",
        "for i, idx in enumerate(indices):\n",
        "    img = X_val[idx]\n",
        "    true_label = le.classes_[y_val[idx]]\n",
        "\n",
        "    pred_probs = model.predict(np.expand_dims(img, axis=0), verbose=0)\n",
        "    pred_label = le.classes_[np.argmax(pred_probs)]\n",
        "\n",
        "    plt.subplot(2, 3, i + 1)\n",
        "    plt.imshow(img)\n",
        "    plt.title(f\"Истинно: {true_label}\\nПредсказано: {pred_label}\",\n",
        "              color='green' if true_label == pred_label else 'red')\n",
        "    plt.axis('off')\n",
        "\n",
        "plt.suptitle(\"Примеры предсказаний модели\", fontsize=16)\n",
        "plt.tight_layout()\n",
        "plt.show()"
      ]
    },
    {
      "cell_type": "code",
      "execution_count": null,
      "metadata": {
        "id": "094bb8mDch90"
      },
      "outputs": [],
      "source": [
        "def load_test_images_for_resnet(image_dir, img_size=(224, 224)):\n",
        "    X = []\n",
        "    filenames = []\n",
        "\n",
        "    all_files = [f for f in os.listdir(image_dir) if f.lower().endswith(('.png'))]\n",
        "    print(f\"Найдено тестовых файлов: {len(all_files)}\")\n",
        "\n",
        "    for filename in tqdm(all_files, desc=\"Обработка теста\"):\n",
        "        img_path = os.path.join(image_dir, filename)\n",
        "        img = cv2.imread(img_path)\n",
        "        if img is None:\n",
        "            continue\n",
        "\n",
        "        img = cv2.cvtColor(img, cv2.COLOR_BGR2RGB)\n",
        "        img = cv2.resize(img, img_size, interpolation=cv2.INTER_CUBIC)\n",
        "        img = img.astype(np.float32) / 255.0\n",
        "\n",
        "        X.append(img)\n",
        "        filenames.append(filename)\n",
        "\n",
        "    return np.array(X), filenames\n",
        "\n",
        "X_test, test_filenames = load_test_images_for_resnet(TEST_PATH)\n",
        "\n",
        "preds = model.predict(X_test)\n",
        "y_test_pred_encoded = np.argmax(preds, axis=1)\n",
        "y_test_pred = le.inverse_transform(y_test_pred_encoded)"
      ]
    },
    {
      "cell_type": "code",
      "source": [
        "N = 6  # количество изображений для отображения\n",
        "\n",
        "# Получим список всех тестовых файлов\n",
        "test_image_paths = [os.path.join(TEST_PATH, f) for f in os.listdir(TEST_PATH) if f.lower().endswith('.png')]\n",
        "np.random.shuffle(test_image_paths)\n",
        "test_image_paths = test_image_paths[:N]\n",
        "\n",
        "plt.figure(figsize=(15, 10))\n",
        "\n",
        "for i, img_path in enumerate(test_image_paths):\n",
        "    # Загрузка и обработка\n",
        "    img = cv2.imread(img_path)\n",
        "    img_rgb = cv2.cvtColor(img, cv2.COLOR_BGR2RGB)\n",
        "    img_resized = cv2.resize(img_rgb, (224, 224))\n",
        "    img_normalized = img_resized.astype(np.float32) / 255.0\n",
        "    img_tensor = np.expand_dims(img_normalized, axis=0)\n",
        "\n",
        "    # Предсказание\n",
        "    pred_probs = model.predict(img_tensor, verbose=0)\n",
        "    pred_label = le.classes_[np.argmax(pred_probs)]\n",
        "    confidence = np.max(pred_probs)\n",
        "\n",
        "    # Отображение\n",
        "    plt.subplot(2, 3, i + 1)\n",
        "    plt.imshow(img_rgb)\n",
        "    plt.title(f\"Предсказано: {pred_label}\\n(доверие: {confidence:.2f})\",\n",
        "              color='blue', fontsize=10)\n",
        "    plt.axis('off')\n",
        "\n",
        "plt.suptitle(\"Примеры предсказаний на тестовых изображениях\", fontsize=16)\n",
        "plt.tight_layout()\n",
        "plt.show()"
      ],
      "metadata": {
        "id": "esFe27ZIRyIJ"
      },
      "execution_count": null,
      "outputs": []
    },
    {
      "cell_type": "code",
      "source": [
        "test_results = pd.DataFrame({\n",
        "    'id': [f.split('.')[0] for f in test_filenames],\n",
        "    'label': y_test_pred\n",
        "})\n",
        "\n",
        "test_results.to_csv('/content/testLabels_ResNet50.csv', index=False)"
      ],
      "metadata": {
        "id": "DukfXUbvR11S"
      },
      "execution_count": null,
      "outputs": []
    }
  ],
  "metadata": {
    "colab": {
      "provenance": [],
      "authorship_tag": "ABX9TyOpBJ3vyN/jBragj0FJJ+PS",
      "include_colab_link": true
    },
    "kernelspec": {
      "display_name": "Python 3",
      "name": "python3"
    },
    "language_info": {
      "name": "python"
    }
  },
  "nbformat": 4,
  "nbformat_minor": 0
}